{
 "cells": [
  {
   "cell_type": "code",
   "execution_count": 0,
   "metadata": {
    "colab": {},
    "colab_type": "code",
    "id": "ye1mx0mqsQt9"
   },
   "outputs": [],
   "source": [
    "import random\n",
    "random.seed(109)\n",
    "\n",
    "from sklearn.model_selection import train_test_split\n",
    "\n",
    "from sklearn.linear_model import LogisticRegressionCV\n",
    "from sklearn.utils import resample\n",
    "from sklearn.tree import DecisionTreeClassifier\n",
    "from sklearn.ensemble import RandomForestClassifier\n",
    "from sklearn.feature_selection import SelectFromModel\n",
    "from sklearn.ensemble import ExtraTreesClassifier\n",
    "\n",
    "from sklearn.model_selection import cross_val_score\n",
    "from sklearn.metrics import accuracy_score, confusion_matrix\n",
    "from sklearn.preprocessing import StandardScaler\n",
    "\n",
    "import numpy as np\n",
    "import pandas as pd\n",
    "import matplotlib.pyplot as plt\n",
    "import time\n",
    "\n",
    "%matplotlib inline\n",
    "\n",
    "import seaborn as sns\n",
    "sns.set(style='whitegrid')\n",
    "pd.set_option('display.width', 1500)\n",
    "pd.set_option('display.max_columns', 100)"
   ]
  },
  {
   "cell_type": "code",
   "execution_count": 0,
   "metadata": {
    "colab": {},
    "colab_type": "code",
    "id": "eiA4kVP433gB"
   },
   "outputs": [],
   "source": [
    "import tensorflow as tf\n",
    "import tensorflow.keras.models as models\n",
    "import tensorflow.keras.layers as layers\n",
    "import tensorflow.keras.optimizers as optimizers\n",
    "from tensorflow.keras import regularizers\n",
    "from tensorflow.keras import utils"
   ]
  },
  {
   "cell_type": "code",
   "execution_count": 0,
   "metadata": {
    "colab": {},
    "colab_type": "code",
    "id": "0Uk7IBektLrA"
   },
   "outputs": [],
   "source": [
    "#Read in the cleaned dataset\n",
    "df_url = 'https://raw.githubusercontent.com/xenaka/cs109_final_project/master/Datasets/df_merge_CPS.csv'\n",
    "df_final = pd.read_csv(df_url)"
   ]
  },
  {
   "cell_type": "code",
   "execution_count": 0,
   "metadata": {
    "colab": {
     "base_uri": "https://localhost:8080/",
     "height": 343
    },
    "colab_type": "code",
    "id": "NaBuaTFU6RBA",
    "outputId": "af81b7c1-907d-4352-93a4-66fe8583050b"
   },
   "outputs": [
    {
     "data": {
      "text/html": [
       "<div>\n",
       "<style scoped>\n",
       "    .dataframe tbody tr th:only-of-type {\n",
       "        vertical-align: middle;\n",
       "    }\n",
       "\n",
       "    .dataframe tbody tr th {\n",
       "        vertical-align: top;\n",
       "    }\n",
       "\n",
       "    .dataframe thead th {\n",
       "        text-align: right;\n",
       "    }\n",
       "</style>\n",
       "<table border=\"1\" class=\"dataframe\">\n",
       "  <thead>\n",
       "    <tr style=\"text-align: right;\">\n",
       "      <th></th>\n",
       "      <th>INCIDENT_NUMBER</th>\n",
       "      <th>OFFENSE_CODE</th>\n",
       "      <th>OFFENSE_CODE_GROUP</th>\n",
       "      <th>OFFENSE_DESCRIPTION</th>\n",
       "      <th>DISTRICT</th>\n",
       "      <th>REPORTING_AREA</th>\n",
       "      <th>SHOOTING</th>\n",
       "      <th>OCCURRED_ON_DATE</th>\n",
       "      <th>YEAR</th>\n",
       "      <th>MONTH</th>\n",
       "      <th>DAY_OF_WEEK</th>\n",
       "      <th>HOUR</th>\n",
       "      <th>UCR_PART</th>\n",
       "      <th>STREET</th>\n",
       "      <th>Lat</th>\n",
       "      <th>Long</th>\n",
       "      <th>Location</th>\n",
       "      <th>OCCURED_TIME</th>\n",
       "      <th>Crime_Type</th>\n",
       "      <th>Crime_Type_Cat</th>\n",
       "      <th>ST_NAME_1st</th>\n",
       "      <th>ST_NAME_2nd</th>\n",
       "      <th>ST_NAME_SUF</th>\n",
       "      <th>ST_comb</th>\n",
       "      <th>ST_12</th>\n",
       "      <th>ST_1SUF</th>\n",
       "      <th>ZIPCODE</th>\n",
       "      <th>AV_BLDG</th>\n",
       "      <th>AV_TOTAL</th>\n",
       "      <th>GROSS_TAX</th>\n",
       "      <th>LAND_SF</th>\n",
       "      <th>GROSS_AREA</th>\n",
       "      <th>LIVING_AREA</th>\n",
       "      <th>NUM_FLOORS</th>\n",
       "      <th>PTYPE_A</th>\n",
       "      <th>PTYPE_C</th>\n",
       "      <th>PTYPE_EO</th>\n",
       "      <th>PTYPE_EP</th>\n",
       "      <th>PTYPE_I</th>\n",
       "      <th>PTYPE_MU</th>\n",
       "      <th>PTYPE_R</th>\n",
       "      <th>YR_BUILT_m</th>\n",
       "      <th>YR_REMOD_m</th>\n",
       "      <th>SHOOTING_DUMMY</th>\n",
       "      <th>Land area</th>\n",
       "      <th>Population Density</th>\n",
       "      <th>Median household income</th>\n",
       "      <th>Total Population</th>\n",
       "      <th>Younger Population</th>\n",
       "      <th>Male Population</th>\n",
       "      <th>Young_prop</th>\n",
       "      <th>Dist_to_Nearest_Light</th>\n",
       "      <th>Lights_within_50m</th>\n",
       "      <th>Lights_within_100m</th>\n",
       "      <th>DAY_OF_WEEK_NUM</th>\n",
       "    </tr>\n",
       "  </thead>\n",
       "  <tbody>\n",
       "    <tr>\n",
       "      <th>0</th>\n",
       "      <td>I192078623</td>\n",
       "      <td>3802</td>\n",
       "      <td>Motor Vehicle Accident Response</td>\n",
       "      <td>M/V ACCIDENT - PROPERTY  DAMAGE</td>\n",
       "      <td>C11</td>\n",
       "      <td>400</td>\n",
       "      <td>NaN</td>\n",
       "      <td>2019-09-28 22:40:00</td>\n",
       "      <td>2019</td>\n",
       "      <td>9</td>\n",
       "      <td>Saturday</td>\n",
       "      <td>22</td>\n",
       "      <td>Part Three</td>\n",
       "      <td>MONTAGUE ST</td>\n",
       "      <td>42.286065</td>\n",
       "      <td>-71.070010</td>\n",
       "      <td>(42.28606484, -71.07001038)</td>\n",
       "      <td>1900-01-01 22:40:00</td>\n",
       "      <td>4.0</td>\n",
       "      <td>M/V Accident</td>\n",
       "      <td>MONTAGUE</td>\n",
       "      <td>ST</td>\n",
       "      <td>ST</td>\n",
       "      <td>MONTAGUE ST</td>\n",
       "      <td>MONTAGUE ST</td>\n",
       "      <td>MONTAGUE ST</td>\n",
       "      <td>2124</td>\n",
       "      <td>542950.000000</td>\n",
       "      <td>707000.000000</td>\n",
       "      <td>745177.750000</td>\n",
       "      <td>5070.000000</td>\n",
       "      <td>4008.500000</td>\n",
       "      <td>2602.500000</td>\n",
       "      <td>2.125000</td>\n",
       "      <td>0.0</td>\n",
       "      <td>0.0</td>\n",
       "      <td>0.0</td>\n",
       "      <td>0.0</td>\n",
       "      <td>0.0</td>\n",
       "      <td>0.0</td>\n",
       "      <td>4.0</td>\n",
       "      <td>-15.750000</td>\n",
       "      <td>14.000000</td>\n",
       "      <td>0.0</td>\n",
       "      <td>3.00</td>\n",
       "      <td>15913.0</td>\n",
       "      <td>48841.0</td>\n",
       "      <td>47783.0</td>\n",
       "      <td>13866.0</td>\n",
       "      <td>21824.0</td>\n",
       "      <td>0.290187</td>\n",
       "      <td>7.813019</td>\n",
       "      <td>4</td>\n",
       "      <td>13</td>\n",
       "      <td>6.0</td>\n",
       "    </tr>\n",
       "    <tr>\n",
       "      <th>1</th>\n",
       "      <td>I192078599</td>\n",
       "      <td>1402</td>\n",
       "      <td>Vandalism</td>\n",
       "      <td>VANDALISM</td>\n",
       "      <td>B2</td>\n",
       "      <td>238</td>\n",
       "      <td>NaN</td>\n",
       "      <td>2019-09-28 23:21:00</td>\n",
       "      <td>2019</td>\n",
       "      <td>9</td>\n",
       "      <td>Saturday</td>\n",
       "      <td>23</td>\n",
       "      <td>Part Two</td>\n",
       "      <td>WENDOVER ST</td>\n",
       "      <td>42.318827</td>\n",
       "      <td>-71.066054</td>\n",
       "      <td>(42.31882655, -71.06605368)</td>\n",
       "      <td>1900-01-01 23:21:00</td>\n",
       "      <td>3.0</td>\n",
       "      <td>Vandalism</td>\n",
       "      <td>WENDOVER</td>\n",
       "      <td>ST</td>\n",
       "      <td>ST</td>\n",
       "      <td>WENDOVER ST</td>\n",
       "      <td>WENDOVER ST</td>\n",
       "      <td>WENDOVER ST</td>\n",
       "      <td>2125</td>\n",
       "      <td>288082.500000</td>\n",
       "      <td>413481.000000</td>\n",
       "      <td>476224.800000</td>\n",
       "      <td>3479.850000</td>\n",
       "      <td>4108.300000</td>\n",
       "      <td>2827.650000</td>\n",
       "      <td>2.500000</td>\n",
       "      <td>2.0</td>\n",
       "      <td>0.0</td>\n",
       "      <td>0.0</td>\n",
       "      <td>0.0</td>\n",
       "      <td>0.0</td>\n",
       "      <td>1.0</td>\n",
       "      <td>17.0</td>\n",
       "      <td>-15.944444</td>\n",
       "      <td>-1.000000</td>\n",
       "      <td>0.0</td>\n",
       "      <td>2.13</td>\n",
       "      <td>15611.0</td>\n",
       "      <td>45130.0</td>\n",
       "      <td>33295.0</td>\n",
       "      <td>8835.0</td>\n",
       "      <td>16399.0</td>\n",
       "      <td>0.265355</td>\n",
       "      <td>6.694126</td>\n",
       "      <td>10</td>\n",
       "      <td>48</td>\n",
       "      <td>6.0</td>\n",
       "    </tr>\n",
       "    <tr>\n",
       "      <th>2</th>\n",
       "      <td>I192078586</td>\n",
       "      <td>3802</td>\n",
       "      <td>Motor Vehicle Accident Response</td>\n",
       "      <td>M/V ACCIDENT - PROPERTY  DAMAGE</td>\n",
       "      <td>E18</td>\n",
       "      <td>485</td>\n",
       "      <td>NaN</td>\n",
       "      <td>2019-09-28 23:33:00</td>\n",
       "      <td>2019</td>\n",
       "      <td>9</td>\n",
       "      <td>Saturday</td>\n",
       "      <td>23</td>\n",
       "      <td>Part Three</td>\n",
       "      <td>MATTAKEESET ST</td>\n",
       "      <td>42.264837</td>\n",
       "      <td>-71.099668</td>\n",
       "      <td>(42.26483674, -71.09966819)</td>\n",
       "      <td>1900-01-01 23:33:00</td>\n",
       "      <td>4.0</td>\n",
       "      <td>M/V Accident</td>\n",
       "      <td>MATTAKEESET</td>\n",
       "      <td>ST</td>\n",
       "      <td>ST</td>\n",
       "      <td>MATTAKEESET ST</td>\n",
       "      <td>MATTAKEESET ST</td>\n",
       "      <td>MATTAKEESET ST</td>\n",
       "      <td>2136</td>\n",
       "      <td>285243.478261</td>\n",
       "      <td>426378.260870</td>\n",
       "      <td>449402.826087</td>\n",
       "      <td>5553.869565</td>\n",
       "      <td>3627.173913</td>\n",
       "      <td>2069.565217</td>\n",
       "      <td>1.956522</td>\n",
       "      <td>0.0</td>\n",
       "      <td>0.0</td>\n",
       "      <td>0.0</td>\n",
       "      <td>0.0</td>\n",
       "      <td>0.0</td>\n",
       "      <td>0.0</td>\n",
       "      <td>23.0</td>\n",
       "      <td>-3.347826</td>\n",
       "      <td>-15.000000</td>\n",
       "      <td>0.0</td>\n",
       "      <td>4.59</td>\n",
       "      <td>6207.0</td>\n",
       "      <td>58890.0</td>\n",
       "      <td>28488.0</td>\n",
       "      <td>8055.0</td>\n",
       "      <td>13324.0</td>\n",
       "      <td>0.282751</td>\n",
       "      <td>10.215599</td>\n",
       "      <td>3</td>\n",
       "      <td>5</td>\n",
       "      <td>6.0</td>\n",
       "    </tr>\n",
       "    <tr>\n",
       "      <th>3</th>\n",
       "      <td>I192078583</td>\n",
       "      <td>3801</td>\n",
       "      <td>Motor Vehicle Accident Response</td>\n",
       "      <td>M/V ACCIDENT - OTHER</td>\n",
       "      <td>E18</td>\n",
       "      <td>478</td>\n",
       "      <td>NaN</td>\n",
       "      <td>2019-09-28 23:26:00</td>\n",
       "      <td>2019</td>\n",
       "      <td>9</td>\n",
       "      <td>Saturday</td>\n",
       "      <td>23</td>\n",
       "      <td>Part Three</td>\n",
       "      <td>GREENFIELD RD</td>\n",
       "      <td>42.270801</td>\n",
       "      <td>-71.105812</td>\n",
       "      <td>(42.27080089, -71.10581184)</td>\n",
       "      <td>1900-01-01 23:26:00</td>\n",
       "      <td>4.0</td>\n",
       "      <td>M/V Accident</td>\n",
       "      <td>GREENFIELD</td>\n",
       "      <td>RD</td>\n",
       "      <td>RD</td>\n",
       "      <td>GREENFIELD RD</td>\n",
       "      <td>GREENFIELD RD</td>\n",
       "      <td>GREENFIELD RD</td>\n",
       "      <td>2126</td>\n",
       "      <td>231282.448276</td>\n",
       "      <td>328715.672414</td>\n",
       "      <td>349293.810345</td>\n",
       "      <td>4681.810345</td>\n",
       "      <td>3011.189655</td>\n",
       "      <td>1668.793103</td>\n",
       "      <td>1.730769</td>\n",
       "      <td>3.0</td>\n",
       "      <td>1.0</td>\n",
       "      <td>0.0</td>\n",
       "      <td>0.0</td>\n",
       "      <td>0.0</td>\n",
       "      <td>0.0</td>\n",
       "      <td>54.0</td>\n",
       "      <td>16.057692</td>\n",
       "      <td>-0.444444</td>\n",
       "      <td>0.0</td>\n",
       "      <td>2.08</td>\n",
       "      <td>12277.0</td>\n",
       "      <td>45238.0</td>\n",
       "      <td>25562.0</td>\n",
       "      <td>7076.0</td>\n",
       "      <td>11547.0</td>\n",
       "      <td>0.276817</td>\n",
       "      <td>61.418527</td>\n",
       "      <td>0</td>\n",
       "      <td>8</td>\n",
       "      <td>6.0</td>\n",
       "    </tr>\n",
       "    <tr>\n",
       "      <th>4</th>\n",
       "      <td>I192078582</td>\n",
       "      <td>3831</td>\n",
       "      <td>Motor Vehicle Accident Response</td>\n",
       "      <td>M/V - LEAVING SCENE - PROPERTY DAMAGE</td>\n",
       "      <td>E13</td>\n",
       "      <td>906</td>\n",
       "      <td>NaN</td>\n",
       "      <td>2019-09-28 22:26:00</td>\n",
       "      <td>2019</td>\n",
       "      <td>9</td>\n",
       "      <td>Saturday</td>\n",
       "      <td>22</td>\n",
       "      <td>Part Three</td>\n",
       "      <td>WALDEN ST</td>\n",
       "      <td>42.325610</td>\n",
       "      <td>-71.104500</td>\n",
       "      <td>(42.32561013, -71.10449956)</td>\n",
       "      <td>1900-01-01 22:26:00</td>\n",
       "      <td>4.0</td>\n",
       "      <td>M/V Accident</td>\n",
       "      <td>WALDEN</td>\n",
       "      <td>ST</td>\n",
       "      <td>ST</td>\n",
       "      <td>WALDEN ST</td>\n",
       "      <td>WALDEN ST</td>\n",
       "      <td>WALDEN ST</td>\n",
       "      <td>2130</td>\n",
       "      <td>253139.250000</td>\n",
       "      <td>391363.800000</td>\n",
       "      <td>349905.800000</td>\n",
       "      <td>5926.250000</td>\n",
       "      <td>3818.250000</td>\n",
       "      <td>2559.000000</td>\n",
       "      <td>2.666667</td>\n",
       "      <td>8.0</td>\n",
       "      <td>1.0</td>\n",
       "      <td>4.0</td>\n",
       "      <td>0.0</td>\n",
       "      <td>0.0</td>\n",
       "      <td>0.0</td>\n",
       "      <td>7.0</td>\n",
       "      <td>22.666667</td>\n",
       "      <td>-6.222222</td>\n",
       "      <td>0.0</td>\n",
       "      <td>3.33</td>\n",
       "      <td>10618.0</td>\n",
       "      <td>75730.0</td>\n",
       "      <td>35401.0</td>\n",
       "      <td>6177.0</td>\n",
       "      <td>16230.0</td>\n",
       "      <td>0.174487</td>\n",
       "      <td>4.517171</td>\n",
       "      <td>8</td>\n",
       "      <td>39</td>\n",
       "      <td>6.0</td>\n",
       "    </tr>\n",
       "  </tbody>\n",
       "</table>\n",
       "</div>"
      ],
      "text/plain": [
       "  INCIDENT_NUMBER  OFFENSE_CODE               OFFENSE_CODE_GROUP                    OFFENSE_DESCRIPTION DISTRICT REPORTING_AREA SHOOTING     OCCURRED_ON_DATE  YEAR  MONTH DAY_OF_WEEK  HOUR    UCR_PART          STREET        Lat       Long                     Location         OCCURED_TIME  Crime_Type Crime_Type_Cat  ST_NAME_1st ST_NAME_2nd ST_NAME_SUF         ST_comb           ST_12         ST_1SUF  ZIPCODE        AV_BLDG       AV_TOTAL      GROSS_TAX      LAND_SF   GROSS_AREA  LIVING_AREA  NUM_FLOORS  PTYPE_A  PTYPE_C  PTYPE_EO  PTYPE_EP  PTYPE_I  PTYPE_MU  PTYPE_R  YR_BUILT_m  YR_REMOD_m  SHOOTING_DUMMY  Land area  Population Density  Median household income  Total Population  Younger Population  Male Population  Young_prop  Dist_to_Nearest_Light  Lights_within_50m  Lights_within_100m  DAY_OF_WEEK_NUM\n",
       "0      I192078623          3802  Motor Vehicle Accident Response        M/V ACCIDENT - PROPERTY  DAMAGE      C11            400      NaN  2019-09-28 22:40:00  2019      9    Saturday    22  Part Three     MONTAGUE ST  42.286065 -71.070010  (42.28606484, -71.07001038)  1900-01-01 22:40:00         4.0   M/V Accident     MONTAGUE          ST          ST     MONTAGUE ST     MONTAGUE ST     MONTAGUE ST     2124  542950.000000  707000.000000  745177.750000  5070.000000  4008.500000  2602.500000    2.125000      0.0      0.0       0.0       0.0      0.0       0.0      4.0  -15.750000   14.000000             0.0       3.00             15913.0                  48841.0           47783.0             13866.0          21824.0    0.290187               7.813019                  4                  13              6.0\n",
       "1      I192078599          1402                        Vandalism                              VANDALISM       B2            238      NaN  2019-09-28 23:21:00  2019      9    Saturday    23    Part Two     WENDOVER ST  42.318827 -71.066054  (42.31882655, -71.06605368)  1900-01-01 23:21:00         3.0      Vandalism     WENDOVER          ST          ST     WENDOVER ST     WENDOVER ST     WENDOVER ST     2125  288082.500000  413481.000000  476224.800000  3479.850000  4108.300000  2827.650000    2.500000      2.0      0.0       0.0       0.0      0.0       1.0     17.0  -15.944444   -1.000000             0.0       2.13             15611.0                  45130.0           33295.0              8835.0          16399.0    0.265355               6.694126                 10                  48              6.0\n",
       "2      I192078586          3802  Motor Vehicle Accident Response        M/V ACCIDENT - PROPERTY  DAMAGE      E18            485      NaN  2019-09-28 23:33:00  2019      9    Saturday    23  Part Three  MATTAKEESET ST  42.264837 -71.099668  (42.26483674, -71.09966819)  1900-01-01 23:33:00         4.0   M/V Accident  MATTAKEESET          ST          ST  MATTAKEESET ST  MATTAKEESET ST  MATTAKEESET ST     2136  285243.478261  426378.260870  449402.826087  5553.869565  3627.173913  2069.565217    1.956522      0.0      0.0       0.0       0.0      0.0       0.0     23.0   -3.347826  -15.000000             0.0       4.59              6207.0                  58890.0           28488.0              8055.0          13324.0    0.282751              10.215599                  3                   5              6.0\n",
       "3      I192078583          3801  Motor Vehicle Accident Response                   M/V ACCIDENT - OTHER      E18            478      NaN  2019-09-28 23:26:00  2019      9    Saturday    23  Part Three   GREENFIELD RD  42.270801 -71.105812  (42.27080089, -71.10581184)  1900-01-01 23:26:00         4.0   M/V Accident   GREENFIELD          RD          RD   GREENFIELD RD   GREENFIELD RD   GREENFIELD RD     2126  231282.448276  328715.672414  349293.810345  4681.810345  3011.189655  1668.793103    1.730769      3.0      1.0       0.0       0.0      0.0       0.0     54.0   16.057692   -0.444444             0.0       2.08             12277.0                  45238.0           25562.0              7076.0          11547.0    0.276817              61.418527                  0                   8              6.0\n",
       "4      I192078582          3831  Motor Vehicle Accident Response  M/V - LEAVING SCENE - PROPERTY DAMAGE      E13            906      NaN  2019-09-28 22:26:00  2019      9    Saturday    22  Part Three       WALDEN ST  42.325610 -71.104500  (42.32561013, -71.10449956)  1900-01-01 22:26:00         4.0   M/V Accident       WALDEN          ST          ST       WALDEN ST       WALDEN ST       WALDEN ST     2130  253139.250000  391363.800000  349905.800000  5926.250000  3818.250000  2559.000000    2.666667      8.0      1.0       4.0       0.0      0.0       0.0      7.0   22.666667   -6.222222             0.0       3.33             10618.0                  75730.0           35401.0              6177.0          16230.0    0.174487               4.517171                  8                  39              6.0"
      ]
     },
     "execution_count": 35,
     "metadata": {
      "tags": []
     },
     "output_type": "execute_result"
    }
   ],
   "source": [
    "df_final.loc[df_final['DAY_OF_WEEK'] == 'Sunday', 'DAY_OF_WEEK_NUM'] = 0\n",
    "df_final.loc[df_final['DAY_OF_WEEK'] == 'Monday', 'DAY_OF_WEEK_NUM'] = 1\n",
    "df_final.loc[df_final['DAY_OF_WEEK'] == 'Tuesday', 'DAY_OF_WEEK_NUM'] = 2\n",
    "df_final.loc[df_final['DAY_OF_WEEK'] == 'Wednesday', 'DAY_OF_WEEK_NUM'] = 3\n",
    "df_final.loc[df_final['DAY_OF_WEEK'] == 'Thursday', 'DAY_OF_WEEK_NUM'] = 4\n",
    "df_final.loc[df_final['DAY_OF_WEEK'] == 'Friday', 'DAY_OF_WEEK_NUM'] = 5\n",
    "df_final.loc[df_final['DAY_OF_WEEK'] == 'Saturday', 'DAY_OF_WEEK_NUM'] = 6\n",
    "\n",
    "df_final.head()"
   ]
  },
  {
   "cell_type": "markdown",
   "metadata": {
    "colab_type": "text",
    "id": "S_gwLLyfvCgQ"
   },
   "source": [
    "# Model"
   ]
  },
  {
   "cell_type": "code",
   "execution_count": 0,
   "metadata": {
    "colab": {},
    "colab_type": "code",
    "id": "DXg3MG-_tnA4"
   },
   "outputs": [],
   "source": [
    "# All predictors that could potentially be used\n",
    "pred_col_names = ['SHOOTING_DUMMY', 'HOUR', 'MONTH', 'DAY_OF_WEEK_NUM', \n",
    "                  'AV_BLDG', 'AV_TOTAL', 'LAND_SF', 'GROSS_TAX', 'GROSS_AREA', 'LIVING_AREA', 'NUM_FLOORS',\n",
    "                  'PTYPE_A', 'PTYPE_C', 'PTYPE_EO', 'PTYPE_EP', 'PTYPE_I', 'PTYPE_MU', 'PTYPE_R', 'YR_BUILT_m', 'YR_REMOD_m', \n",
    "                  'Population Density', 'Young_prop', 'Median household income', \n",
    "                  'Dist_to_Nearest_Light', 'Lights_within_50m', 'Lights_within_100m']"
   ]
  },
  {
   "cell_type": "code",
   "execution_count": 0,
   "metadata": {
    "colab": {},
    "colab_type": "code",
    "id": "u5EbzUN0vGIt"
   },
   "outputs": [],
   "source": [
    "# drop missing values\n",
    "df_model = df_final.dropna(subset = pred_col_names)"
   ]
  },
  {
   "cell_type": "code",
   "execution_count": 0,
   "metadata": {
    "colab": {},
    "colab_type": "code",
    "id": "xCwo4KwtvGM0"
   },
   "outputs": [],
   "source": [
    "# train-test split\n",
    "X_train, X_test, y_train, y_test = train_test_split(df_model, \n",
    "                                                    df_model.Crime_Type, test_size=0.2, \n",
    "                                                    random_state = 8, \n",
    "                                                    stratify = df_model.Crime_Type)"
   ]
  },
  {
   "cell_type": "markdown",
   "metadata": {
    "colab_type": "text",
    "id": "4TxRKU7O0S3g"
   },
   "source": [
    "### Baseline (Multiple Logistic Regression Model)"
   ]
  },
  {
   "cell_type": "code",
   "execution_count": 0,
   "metadata": {
    "colab": {},
    "colab_type": "code",
    "id": "WzMtRmm2yJhc"
   },
   "outputs": [],
   "source": [
    "# drop 'AV_BLDG', 'Median household income','GROSS_AREA' and Lights_within_100m'\n",
    "pred_col_log = ['SHOOTING_DUMMY', 'HOUR', 'MONTH', 'DAY_OF_WEEK_NUM', \n",
    "                  'AV_TOTAL', 'LAND_SF', 'GROSS_TAX', 'LIVING_AREA', 'NUM_FLOORS',\n",
    "                  'PTYPE_A', 'PTYPE_C', 'PTYPE_EO', 'PTYPE_EP', 'PTYPE_I', 'PTYPE_MU', 'PTYPE_R', 'YR_BUILT_m', 'YR_REMOD_m', \n",
    "                  'Population Density', 'Young_prop', \n",
    "                  'Dist_to_Nearest_Light', 'Lights_within_50m']"
   ]
  },
  {
   "cell_type": "code",
   "execution_count": 0,
   "metadata": {
    "colab": {},
    "colab_type": "code",
    "id": "Dgu7aww80PwQ"
   },
   "outputs": [],
   "source": [
    "#Standardize\n",
    "continuous = ['AV_BLDG', 'AV_TOTAL', 'LAND_SF', 'GROSS_TAX', 'GROSS_AREA', 'LIVING_AREA', 'NUM_FLOORS',\n",
    "              'PTYPE_A', 'PTYPE_C', 'PTYPE_EO', 'PTYPE_EP', 'PTYPE_I', 'PTYPE_MU', 'PTYPE_R', 'YR_BUILT_m', 'YR_REMOD_m', \n",
    "              'Population Density', 'Young_prop', 'Median household income', \n",
    "              'Dist_to_Nearest_Light', 'Lights_within_50m', 'Lights_within_100m']\n",
    "\n",
    "scaler = StandardScaler()\n",
    "\n",
    "X_train_scaled = X_train.copy()\n",
    "X_train_scaled[continuous] = scaler.fit_transform(X_train_scaled[continuous])\n",
    "\n",
    "X_test_scaled = X_test.copy()\n",
    "X_test_scaled[continuous] = scaler.transform(X_test_scaled[continuous])"
   ]
  },
  {
   "cell_type": "code",
   "execution_count": 0,
   "metadata": {
    "colab": {},
    "colab_type": "code",
    "id": "zMsWVd5Siavq"
   },
   "outputs": [],
   "source": [
    "#Turn hour, month and day of week into dummy variables\n",
    "dummies = ['HOUR', 'MONTH', 'DAY_OF_WEEK_NUM']\n",
    "\n",
    "X_train_dum = pd.get_dummies(X_train_scaled.loc[:,pred_col_log], columns=dummies, drop_first=True)\n",
    "X_test_dum = pd.get_dummies(X_test_scaled.loc[:,pred_col_log], columns=dummies,drop_first=True)"
   ]
  },
  {
   "cell_type": "code",
   "execution_count": 0,
   "metadata": {
    "colab": {},
    "colab_type": "code",
    "id": "d--7NGUv0P3C"
   },
   "outputs": [],
   "source": [
    "#Fit the model\n",
    "model_logcv = LogisticRegressionCV(multi_class='ovr', cv=5, max_iter=200).fit(X_train_dum, y_train)"
   ]
  },
  {
   "cell_type": "code",
   "execution_count": 0,
   "metadata": {
    "colab": {
     "base_uri": "https://localhost:8080/",
     "height": 34
    },
    "colab_type": "code",
    "id": "2aYx8PP90P8Q",
    "outputId": "d65fc557-ff77-44ef-aba6-521f8e5d9ed4"
   },
   "outputs": [
    {
     "name": "stdout",
     "output_type": "stream",
     "text": [
      "The accuracy score of the testing data is : 0.3394721577726218\n"
     ]
    }
   ],
   "source": [
    "print('The accuracy score of the testing data is :', accuracy_score(y_test.values, model_logcv.predict(X_test_dum)))"
   ]
  },
  {
   "cell_type": "code",
   "execution_count": 0,
   "metadata": {
    "colab": {
     "base_uri": "https://localhost:8080/",
     "height": 34
    },
    "colab_type": "code",
    "id": "YoF_nMR8lroa",
    "outputId": "fd8dd7d9-9565-4296-d7d5-ab0d3fa82b64"
   },
   "outputs": [
    {
     "name": "stdout",
     "output_type": "stream",
     "text": [
      "The accuracy score of the training data is : 0.3357109840210998\n"
     ]
    }
   ],
   "source": [
    "print('The accuracy score of the training data is :', accuracy_score(y_train.values, model_logcv.predict(X_train_dum)))"
   ]
  },
  {
   "cell_type": "markdown",
   "metadata": {
    "colab_type": "text",
    "id": "wZVtnuVY8DAG"
   },
   "source": [
    "### Optimized Logistic Regression Model"
   ]
  },
  {
   "cell_type": "code",
   "execution_count": 0,
   "metadata": {
    "colab": {},
    "colab_type": "code",
    "id": "lxN2bE5B4jI1"
   },
   "outputs": [],
   "source": [
    "#All variables were dumped in for feature selection\n",
    "X_train_log2 = pd.get_dummies(X_train_scaled.loc[:,pred_col_names], columns=dummies,drop_first=True)\n",
    "X_test_log2 = pd.get_dummies(X_test_scaled.loc[:,pred_col_names], columns=dummies,drop_first=True)"
   ]
  },
  {
   "cell_type": "code",
   "execution_count": 0,
   "metadata": {
    "colab": {},
    "colab_type": "code",
    "id": "wO3yCI7R5fhL"
   },
   "outputs": [],
   "source": [
    "#Fit the training data into the classifier\n",
    "estimator = ExtraTreesClassifier(n_estimators = 10)\n",
    "featureSelection = SelectFromModel(estimator)\n",
    "featureSelection.fit(X_train_log2, y_train)\n",
    "\n",
    "#Select the important features\n",
    "selectedFeatures = featureSelection.transform(X_train_log2)\n",
    "Selected_var = X_train_log2.columns[featureSelection.get_support()]"
   ]
  },
  {
   "cell_type": "code",
   "execution_count": 0,
   "metadata": {
    "colab": {
     "base_uri": "https://localhost:8080/",
     "height": 51
    },
    "colab_type": "code",
    "id": "l-NF-exm6Qbm",
    "outputId": "f5e667be-2547-4b97-c821-54bc3db54b76"
   },
   "outputs": [
    {
     "name": "stdout",
     "output_type": "stream",
     "text": [
      "The accuracy in training dataset is 0.31297073405055603\n",
      "The accuracy in testing dataset is 0.3130800464037123\n"
     ]
    }
   ],
   "source": [
    "#Fit the logistic model with the selected variables\n",
    "ovr_model=LogisticRegressionCV(multi_class = 'ovr', cv=5).fit(X_train_log2.loc[:,list(Selected_var)],y_train)\n",
    "print('The accuracy in train dataset is '+\"{}\".format(ovr_model.score(X_train_log2.loc[:,list(Selected_var)], y_train)))\n",
    "print('The accuracy in test dataset is '+\"{}\".format(ovr_model.score(X_test_log2.loc[:,list(Selected_var)], y_test)))"
   ]
  },
  {
   "cell_type": "markdown",
   "metadata": {
    "colab_type": "text",
    "id": "X1iQ-D9o0WEE"
   },
   "source": [
    "### Decision tree"
   ]
  },
  {
   "cell_type": "code",
   "execution_count": 0,
   "metadata": {
    "colab": {},
    "colab_type": "code",
    "id": "hJ9yQ2Dv0aPD"
   },
   "outputs": [],
   "source": [
    "#Decision Tree \n",
    "#Function for finding the best depth and fit the tree with it \n",
    "def Find_BestTree(X_train, y_train, depths):\n",
    "    cvmeans = []\n",
    "    cvstds = []\n",
    "    train_scores = []\n",
    "    for i in depths:\n",
    "        tree = DecisionTreeClassifier(max_depth=i)\n",
    "        model_tree = tree.fit(X_train, y_train)\n",
    "\n",
    "        score = cross_val_score(estimator=tree, X=X_train, y=y_train, cv=5)\n",
    "        train_score = accuracy_score(y_train, model_tree.predict(X_train))        \n",
    "        cvmeans.append(score.mean())\n",
    "        cvstds.append(score.std())\n",
    "        train_scores.append(train_score)\n",
    "\n",
    "    best_depth = depths[cvmeans.index(sorted(cvmeans, reverse=True)[0])]\n",
    "\n",
    "    # Fit a tree with the best depth \n",
    "    tree_best = DecisionTreeClassifier(max_depth=best_depth)\n",
    "    tree_best.fit(X_train, y_train)\n",
    "\n",
    "    return best_depth, tree_best, cvmeans, cvstds, train_scores\n",
    "\n",
    "depths = list(range(1, 61))\n",
    "best_depth, model_BestTree, cvmeans, cvstds, train_scores= Find_BestTree(X_train.loc[:,pred_col_names], y_train, depths)\n",
    "\n",
    "print('The accuracy score in the train set of the decision tree with the best depth={} is: {}'.format(best_depth, accuracy_score(y_train.values, model_BestTree.predict(X_train.loc[:,pred_col_names]))))\n",
    "print('The accuracy score in the test set of the decision tree with the best depth={} is: {}'.format(best_depth, accuracy_score(y_test.values, model_BestTree.predict(X_test.loc[:,pred_col_names]))))"
   ]
  },
  {
   "cell_type": "code",
   "execution_count": 0,
   "metadata": {
    "colab": {},
    "colab_type": "code",
    "id": "dNufAZqsP3tV"
   },
   "outputs": [],
   "source": [
    "# Plotting means and standard deviations for different depths \n",
    "plt.figure(figsize=(10, 6))\n",
    "plt.fill_between(depths, np.array(cvmeans) + np.array(cvstds), np.array(cvmeans) - np.array(cvstds), alpha=0.5)\n",
    "plt.ylabel(\"Cross Validation Accuracy\")\n",
    "plt.xlabel(\"Maximum Depth\")\n",
    "plt.plot(depths, train_scores, 'b-', marker='o', label = \"Train set performance\")\n",
    "plt.plot(depths, cvmeans, 'r-', marker='o', label = \"Cross-validation performance\")\n",
    "plt.legend()\n",
    "plt.show()"
   ]
  },
  {
   "cell_type": "markdown",
   "metadata": {
    "colab_type": "text",
    "id": "ZyZA7BDZh6Ir"
   },
   "source": [
    "### Random Forest"
   ]
  },
  {
   "cell_type": "code",
   "execution_count": 0,
   "metadata": {
    "colab": {},
    "colab_type": "code",
    "id": "KVIJN1DXh-qr"
   },
   "outputs": [],
   "source": [
    "#Random Forest \n",
    "tree_depth = best_depth\n",
    "\n",
    "n_trees = np.arange(400,500,20)\n",
    "rf_train_score = []\n",
    "rf_test_score = []\n",
    "for n in n_trees:\n",
    "    rf_model = RandomForestClassifier(n_estimators=n, max_depth=tree_depth, max_features = 'auto')\n",
    "    rf_model.fit(X_train.loc[:,pred_col_names], y_train)\n",
    "    train_sc = accuracy_score(y_train.values, rf_model.predict(X_train.loc[:,pred_col_names]))\n",
    "    test_sc = accuracy_score(y_test.values, rf_model.predict(X_test.loc[:,pred_col_names]))\n",
    "    rf_train_score.append(train_sc)\n",
    "    rf_test_score.append(test_sc)\n",
    "    print(\"Finished n={}\".format(n))\n",
    "\n",
    "print('With number of trees = {} and maximum depth = {}, the optimized test set accuracy score reaches {}'.format(n_trees[rf_test_score.index(max(rf_test_score))], best_depth, max(rf_test_score)))"
   ]
  },
  {
   "cell_type": "markdown",
   "metadata": {
    "colab_type": "text",
    "id": "8siaU4tRiU6G"
   },
   "source": [
    "### Boosting"
   ]
  },
  {
   "cell_type": "code",
   "execution_count": 0,
   "metadata": {
    "colab": {},
    "colab_type": "code",
    "id": "b73VOgLqiWgg"
   },
   "outputs": [],
   "source": [
    "#Boosting \n",
    "boost_model = AdaBoostClassifier(base_estimator=DecisionTreeClassifier(max_depth=15),\n",
    "                                 n_estimators=100,\n",
    "                                 learning_rate=0.1)\n",
    "boost_model.fit(X_train.loc[:,pred_col_names], y_train)\n",
    "\n",
    "staged_boosting_training = list(boost_model.staged_score(X_train.loc[:,pred_col_names], y_train))\n",
    "staged_boosting_test = list(boost_model.staged_score(X_test.loc[:,pred_col_names], y_test))"
   ]
  },
  {
   "cell_type": "code",
   "execution_count": 0,
   "metadata": {
    "colab": {},
    "colab_type": "code",
    "id": "YMdh7u4DSyds"
   },
   "outputs": [],
   "source": [
    "plt.figure(figsize=(10, 6))\n",
    "\n",
    "#Plot \n",
    "plt.ylabel(\"Accuracy Score\")\n",
    "plt.xlabel(\"Number of Iterations\")\n",
    "plt.plot(range(1,101),\n",
    "         staged_boosting_training,\n",
    "         'b-', label = \"Train set performance\")\n",
    "plt.plot(range(1,101),\n",
    "         staged_boosting_test,\n",
    "         'r-', label = \"Test set performance\")\n",
    "plt.legend()\n",
    "plt.show()"
   ]
  },
  {
   "cell_type": "markdown",
   "metadata": {
    "colab_type": "text",
    "id": "cCEUqWE0ijVU"
   },
   "source": [
    "### Neural Network"
   ]
  },
  {
   "cell_type": "code",
   "execution_count": 0,
   "metadata": {
    "colab": {},
    "colab_type": "code",
    "id": "WhRp5G1ySim_"
   },
   "outputs": [],
   "source": [
    "#Neural Network \n",
    "nn_model = models.Sequential(\n",
    "  [layers.Dense(256, activation='relu', input_shape=(X_train_scaled.loc[:,pred_col_names].shape[1],)),\n",
    "   layers.Dropout(0.2),\n",
    "   layers.Dense(256, activation='relu'),\n",
    "   layers.Dropout(0.2),\n",
    "   layers.Dense(256, activation='relu'),\n",
    "   layers.Dropout(0.2),\n",
    "   layers.Dense(256, activation='relu'),\n",
    "\n",
    "   layers.Dropout(0.2),\n",
    "\n",
    "  layers.Dense(6, activation='softmax')])\n",
    "\n",
    "\n",
    "adam = optimizers.Adam(lr=0.0008)\n",
    "nn_model.compile(loss='sparse_categorical_crossentropy',\n",
    "               optimizer= adam,\n",
    "               metrics=['accuracy'])\n",
    "\n",
    "hist = nn_model.fit(X_train_scaled.loc[:,pred_col_names], y_train, shuffle=True, batch_size=64, epochs=1000, validation_split = 0.2,\n",
    "                    verbose=1)\n",
    "\n",
    "#Test set accuracy \n",
    "accuracy_score(y_test, nn_model.predict_classes(X_test_scaled.loc[:,pred_col_names]))"
   ]
  },
  {
   "cell_type": "code",
   "execution_count": 0,
   "metadata": {
    "colab": {},
    "colab_type": "code",
    "id": "06cFQ6msdffk"
   },
   "outputs": [],
   "source": [
    "#Plot \n",
    "val_acc = hist.history[\"val_accuracy\"]\n",
    "acc = hist.history[\"accuracy\"]\n",
    "\n",
    "plt.figure(figsize=(15,6))\n",
    "\n",
    "epochs = range(len(acc))\n",
    "plt.plot(epochs, acc, 'r', label='Training accuracy')\n",
    "plt.plot(epochs, val_acc, 'b', label='Validation accuracy')\n",
    "plt.legend()\n",
    "\n",
    "plt.show()"
   ]
  },
  {
   "cell_type": "markdown",
   "metadata": {
    "colab_type": "text",
    "id": "4roOgJ5UrNGF"
   },
   "source": [
    "### Confusion Matrix"
   ]
  },
  {
   "cell_type": "code",
   "execution_count": 0,
   "metadata": {
    "colab": {},
    "colab_type": "code",
    "id": "rmv-MNVY430w"
   },
   "outputs": [],
   "source": [
    "#Baseline Model Confusion Matrix\n",
    "crime_labels = ['Theft', 'Robbery', 'Assault', 'Vandalism', 'M/V Accident', 'Drug Abuse Violations']\n",
    "\n",
    "matrix_logcv = confusion_matrix(y_test.values, model_logcv.predict(X_test_dum))\n",
    "plt.figure(figsize = (12,10))\n",
    "sns.set(font_scale=1)\n",
    "sns.heatmap(matrix_logcv,annot=True,cbar=True, xticklabels=crime_labels, yticklabels=crime_labels)\n",
    "plt.xticks(rotation=30)\n",
    "plt.yticks(rotation=30)\n",
    "plt.ylabel('True Value')\n",
    "plt.xlabel('Predicted Value');"
   ]
  },
  {
   "cell_type": "code",
   "execution_count": 0,
   "metadata": {
    "colab": {},
    "colab_type": "code",
    "id": "eOOa0p9Adyba"
   },
   "outputs": [],
   "source": [
    "#Optimized Logistic Model Confusion Matrix\n",
    "matrix_log2 = confusion_matrix(y_test.values, ovr_model.predict(X_test_log2.loc[:,list(Selected_var)]))\n",
    "plt.figure(figsize = (12,10))\n",
    "sns.set(font_scale=1)\n",
    "sns.heatmap(matrix_log2,annot=True,cbar=True, xticklabels=crime_labels, yticklabels=crime_labels)\n",
    "plt.xticks(rotation=30)\n",
    "plt.yticks(rotation=30)\n",
    "plt.ylabel('True Value')\n",
    "plt.xlabel('Predicted Value');"
   ]
  },
  {
   "cell_type": "code",
   "execution_count": 0,
   "metadata": {
    "colab": {},
    "colab_type": "code",
    "id": "XGksAkLCrRmt"
   },
   "outputs": [],
   "source": [
    "#Neural Network Confusion Matrix\n",
    "matrix_NN = confusion_matrix(y_test.values, nn_model.predict_classes(X_test_scaled.loc[:,pred_col_names]))\n",
    "plt.figure(figsize = (12,10))\n",
    "sns.set(font_scale=1)\n",
    "sns.heatmap(matrix_NN,annot=True,cbar=True, xticklabels=crime_labels, yticklabels=crime_labels)\n",
    "plt.xticks(rotation=30)\n",
    "plt.yticks(rotation=30)\n",
    "plt.ylabel('True Value')\n",
    "plt.xlabel('Predicted Value');"
   ]
  },
  {
   "cell_type": "code",
   "execution_count": 0,
   "metadata": {
    "colab": {},
    "colab_type": "code",
    "id": "ILYjzDa9rWnl"
   },
   "outputs": [],
   "source": [
    "#Decision Tree Confusion Matrix\n",
    "matrix_deci_tree = confusion_matrix(y_test.values, model_BestTree.predict(X_test.loc[:,pred_col_names]))\n",
    "plt.figure(figsize = (12,10))\n",
    "sns.set(font_scale=1)\n",
    "sns.heatmap(matrix_deci_tree,annot=True,cbar=True, xticklabels=crime_labels, yticklabels=crime_labels)\n",
    "plt.xticks(rotation=30)\n",
    "plt.yticks(rotation=30)\n",
    "plt.ylabel('True Value')\n",
    "plt.xlabel('Predicted Value');"
   ]
  },
  {
   "cell_type": "code",
   "execution_count": 0,
   "metadata": {
    "colab": {},
    "colab_type": "code",
    "id": "3-OAfk5VrZ5Q"
   },
   "outputs": [],
   "source": [
    "#Random Forest Confusion Matrix\n",
    "rf_model = RandomForestClassifier(n_estimators=420, max_depth=tree_depth, max_features = 'auto')\n",
    "rf_model.fit(X_train.loc[:,pred_col_names], y_train)\n",
    "\n",
    "matrix_rf = confusion_matrix(y_test.values, rf_model.predict(X_test.loc[:,pred_col_names]))\n",
    "plt.figure(figsize = (12,10))\n",
    "sns.set(font_scale=1)\n",
    "sns.heatmap(matrix_rf,annot=True,cbar=True, xticklabels=crime_labels, yticklabels=crime_labels)\n",
    "plt.xticks(rotation=30)\n",
    "plt.yticks(rotation=30)\n",
    "plt.ylabel('True Value')\n",
    "plt.xlabel('Predicted Value');"
   ]
  },
  {
   "cell_type": "code",
   "execution_count": 0,
   "metadata": {
    "colab": {},
    "colab_type": "code",
    "id": "iPGsevl-rdBw"
   },
   "outputs": [],
   "source": [
    "#Boosting Confusion Matrix\n",
    "matrix_boost = confusion_matrix(y_test.values, boost_model.predict(X_test.loc[:,pred_col_names]))\n",
    "plt.figure(figsize = (12,10))\n",
    "sns.set(font_scale=1)\n",
    "sns.heatmap(matrix_boost,annot=True,cbar=True, xticklabels=crime_labels, yticklabels=crime_labels)\n",
    "plt.xticks(rotation=30)\n",
    "plt.yticks(rotation=30)\n",
    "plt.ylabel('True Value')\n",
    "plt.xlabel('Predicted Value');"
   ]
  },
  {
   "cell_type": "markdown",
   "metadata": {
    "colab_type": "text",
    "id": "pjStRocyyLsQ"
   },
   "source": [
    "### Feature Importance"
   ]
  },
  {
   "cell_type": "code",
   "execution_count": 0,
   "metadata": {
    "colab": {},
    "colab_type": "code",
    "id": "ChicsHlayPNC"
   },
   "outputs": [],
   "source": [
    "#Important Features in RF and Boosting models \n",
    "boost_predictors_imp = pd.DataFrame({'predictor': X_train.loc[:,pred_col_names].columns, 'relative importance':boost_model.feature_importances_}).sort_values(by='relative importance', ascending=False)\n",
    "rf_predictors_imp = pd.DataFrame({'predictor': X_train.loc[:,pred_col_names].columns, 'relative importance':rf_model.feature_importances_}).sort_values(by='relative importance', ascending=False)"
   ]
  },
  {
   "cell_type": "code",
   "execution_count": 0,
   "metadata": {
    "colab": {},
    "colab_type": "code",
    "id": "WTnQGvREyUhA"
   },
   "outputs": [],
   "source": [
    "#Plot\n",
    "fig, ax = plt.subplots(nrows=1, ncols=2, figsize=(45,20))\n",
    "fig.subplots_adjust(wspace = 0.4)\n",
    "y_pos = np.arange(len(boost_predictors_imp ))\n",
    "\n",
    "ax[0].barh(y_pos, rf_predictors_imp['relative importance'], align='center')\n",
    "ax[0].xaxis.set_tick_params(labelsize=25)\n",
    "ax[0].set_yticks(y_pos)\n",
    "ax[0].set_yticklabels(rf_predictors_imp['predictor'],fontsize=27)\n",
    "ax[0].invert_yaxis()  \n",
    "ax[0].set_xlabel('Relative Importance',fontsize=27)\n",
    "ax[0].set_title('Random Forest',fontsize=30, fontweight=\"bold\")\n",
    "\n",
    "ax[1].barh(y_pos, boost_predictors_imp['relative importance'], align='center')\n",
    "ax[1].xaxis.set_tick_params(labelsize=25)\n",
    "ax[1].set_yticks(y_pos)\n",
    "ax[1].set_yticklabels(boost_predictors_imp['predictor'],fontsize=27)\n",
    "ax[1].invert_yaxis()  \n",
    "ax[1].set_xlabel('Relative Importance',fontsize=27)\n",
    "ax[1].set_title('Boosting',fontsize=30, fontweight=\"bold\")\n",
    "\n",
    "plt.show()"
   ]
  }
 ],
 "metadata": {
  "colab": {
   "collapsed_sections": [],
   "name": "CS109_final_project.ipynb",
   "provenance": []
  },
  "kernelspec": {
   "display_name": "Python 3",
   "language": "python",
   "name": "python3"
  },
  "language_info": {
   "codemirror_mode": {
    "name": "ipython",
    "version": 3
   },
   "file_extension": ".py",
   "mimetype": "text/x-python",
   "name": "python",
   "nbconvert_exporter": "python",
   "pygments_lexer": "ipython3",
   "version": "3.6.8"
  }
 },
 "nbformat": 4,
 "nbformat_minor": 1
}
